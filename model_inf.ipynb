{
 "cells": [
  {
   "cell_type": "code",
   "execution_count": 1,
   "metadata": {},
   "outputs": [
    {
     "name": "stderr",
     "output_type": "stream",
     "text": [
      "/home/diogoalves/thesis/.venv/lib/python3.10/site-packages/tqdm/auto.py:21: TqdmWarning: IProgress not found. Please update jupyter and ipywidgets. See https://ipywidgets.readthedocs.io/en/stable/user_install.html\n",
      "  from .autonotebook import tqdm as notebook_tqdm\n"
     ]
    }
   ],
   "source": [
    "import torch\n",
    "import torchvision.transforms as transforms\n",
    "from PIL import Image\n",
    "import pickle\n",
    "\n",
    "from model_training_ck.models import MobileNetV3"
   ]
  },
  {
   "cell_type": "code",
   "execution_count": 2,
   "metadata": {},
   "outputs": [],
   "source": [
    "class InferencePipeline:\n",
    "    def __init__(self, model_path, label_encoder_path, image_size=(224, 224)):\n",
    "        self.model = self.load_model(model_path)\n",
    "        self.model.eval()\n",
    "        self.label_encoder = self.load_label_encoder(label_encoder_path)\n",
    "\n",
    "        self.transforms = transforms.Compose([\n",
    "            transforms.Resize(image_size),\n",
    "            transforms.ToTensor(),\n",
    "            transforms.Normalize(mean=[0.5, 0.5, 0.5], std=[0.5, 0.5, 0.5])\n",
    "        ])\n",
    "\n",
    "    def load_model(self, model_path):\n",
    "        model = MobileNetV3(num_labels=7)\n",
    "        model.load_state_dict(torch.load(model_path))\n",
    "        return model\n",
    "\n",
    "    def load_label_encoder(self, label_encoder_path):\n",
    "        with open(label_encoder_path, 'rb') as f:\n",
    "            label_encoder = pickle.load(f)\n",
    "        return label_encoder\n",
    "\n",
    "    def load_image(self, image_path):\n",
    "        image = Image.open(image_path)\n",
    "        image = image.convert('RGB')\n",
    "        return image\n",
    "\n",
    "    def preprocess_image(self, image_path):\n",
    "        image = self.load_image(image_path)\n",
    "        if self.transforms:\n",
    "            image = self.transforms(image)\n",
    "        return image.unsqueeze(0)\n",
    "\n",
    "    def predict(self, image_path):\n",
    "        image = self.preprocess_image(image_path)\n",
    "\n",
    "        with torch.no_grad():\n",
    "            output = self.model(image)\n",
    "            _, predicted_idx = torch.max(output, 1)\n",
    "\n",
    "        predicted_label = self.label_encoder.inverse_transform([predicted_idx.item()])\n",
    "        return predicted_label[0]"
   ]
  },
  {
   "cell_type": "code",
   "execution_count": 3,
   "metadata": {},
   "outputs": [],
   "source": [
    "best_model_path = \"model_training_ck/models/distilled_lottery_ticket_10_590669.pt\"\n",
    "label_encoder_path = \"model_training_ck/models/label_encoder.pkl\""
   ]
  },
  {
   "cell_type": "code",
   "execution_count": 4,
   "metadata": {},
   "outputs": [
    {
     "name": "stderr",
     "output_type": "stream",
     "text": [
      "/home/diogoalves/thesis/.venv/lib/python3.10/site-packages/torchvision/models/_utils.py:208: UserWarning: The parameter 'pretrained' is deprecated since 0.13 and may be removed in the future, please use 'weights' instead.\n",
      "  warnings.warn(\n",
      "/home/diogoalves/thesis/.venv/lib/python3.10/site-packages/torchvision/models/_utils.py:223: UserWarning: Arguments other than a weight enum or `None` for 'weights' are deprecated since 0.13 and may be removed in the future. The current behavior is equivalent to passing `weights=MobileNet_V3_Small_Weights.IMAGENET1K_V1`. You can also use `weights=MobileNet_V3_Small_Weights.DEFAULT` to get the most up-to-date weights.\n",
      "  warnings.warn(msg)\n",
      "/tmp/ipykernel_709136/3159389531.py:15: FutureWarning: You are using `torch.load` with `weights_only=False` (the current default value), which uses the default pickle module implicitly. It is possible to construct malicious pickle data which will execute arbitrary code during unpickling (See https://github.com/pytorch/pytorch/blob/main/SECURITY.md#untrusted-models for more details). In a future release, the default value for `weights_only` will be flipped to `True`. This limits the functions that could be executed during unpickling. Arbitrary objects will no longer be allowed to be loaded via this mode unless they are explicitly allowlisted by the user via `torch.serialization.add_safe_globals`. We recommend you start setting `weights_only=True` for any use case where you don't have full control of the loaded file. Please open an issue on GitHub for any issues related to this experimental feature.\n",
      "  model.load_state_dict(torch.load(model_path))\n"
     ]
    }
   ],
   "source": [
    "pipeline = InferencePipeline(best_model_path,\n",
    "                            label_encoder_path)"
   ]
  },
  {
   "cell_type": "code",
   "execution_count": 5,
   "metadata": {},
   "outputs": [
    {
     "data": {
      "text/plain": [
       "'contempt'"
      ]
     },
     "execution_count": 5,
     "metadata": {},
     "output_type": "execute_result"
    }
   ],
   "source": [
    "pipeline.predict(\"/home/diogoalves/thesis/ck_data/contempt.png\")"
   ]
  }
 ],
 "metadata": {
  "kernelspec": {
   "display_name": ".venv",
   "language": "python",
   "name": "python3"
  },
  "language_info": {
   "codemirror_mode": {
    "name": "ipython",
    "version": 3
   },
   "file_extension": ".py",
   "mimetype": "text/x-python",
   "name": "python",
   "nbconvert_exporter": "python",
   "pygments_lexer": "ipython3",
   "version": "3.10.12"
  }
 },
 "nbformat": 4,
 "nbformat_minor": 2
}
