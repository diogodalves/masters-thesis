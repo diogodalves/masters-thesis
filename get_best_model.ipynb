{
 "cells": [
  {
   "cell_type": "code",
   "execution_count": 1,
   "metadata": {},
   "outputs": [
    {
     "name": "stderr",
     "output_type": "stream",
     "text": [
      "/home/diogoalves/thesis/.venv/lib/python3.10/site-packages/tqdm/auto.py:21: TqdmWarning: IProgress not found. Please update jupyter and ipywidgets. See https://ipywidgets.readthedocs.io/en/stable/user_install.html\n",
      "  from .autonotebook import tqdm as notebook_tqdm\n"
     ]
    }
   ],
   "source": [
    "import torch\n",
    "import pickle\n",
    "\n",
    "from model_training_ck.models import MobileNetV3\n",
    "\n",
    "master_models_dict = \"model_training_ck/models/master_models.pkl\"\n",
    "model_name = \"master\"\n",
    "model_dir = \"model_training_ck/distilled_lottery_tickets\""
   ]
  },
  {
   "cell_type": "code",
   "execution_count": 2,
   "metadata": {},
   "outputs": [
    {
     "name": "stderr",
     "output_type": "stream",
     "text": [
      "/home/diogoalves/thesis/.venv/lib/python3.10/site-packages/torch/storage.py:414: FutureWarning: You are using `torch.load` with `weights_only=False` (the current default value), which uses the default pickle module implicitly. It is possible to construct malicious pickle data which will execute arbitrary code during unpickling (See https://github.com/pytorch/pytorch/blob/main/SECURITY.md#untrusted-models for more details). In a future release, the default value for `weights_only` will be flipped to `True`. This limits the functions that could be executed during unpickling. Arbitrary objects will no longer be allowed to be loaded via this mode unless they are explicitly allowlisted by the user via `torch.serialization.add_safe_globals`. We recommend you start setting `weights_only=True` for any use case where you don't have full control of the loaded file. Please open an issue on GitHub for any issues related to this experimental feature.\n",
      "  return torch.load(io.BytesIO(b))\n"
     ]
    }
   ],
   "source": [
    "with open(master_models_dict, 'rb') as f:\n",
    "    models_dict = pickle.load(f)"
   ]
  },
  {
   "cell_type": "code",
   "execution_count": 3,
   "metadata": {},
   "outputs": [
    {
     "name": "stdout",
     "output_type": "stream",
     "text": [
      "Cycle: 10\n",
      "Min Val Loss: 0.07144093990791589\n",
      "Params: 590669\n",
      "--------------------\n",
      "Cycle: 6\n",
      "Min Val Loss: 0.08029544888995588\n",
      "Params: 897098\n",
      "--------------------\n",
      "Cycle: 4\n",
      "Min Val Loss: 0.08177518472075462\n",
      "Params: 1106117\n",
      "--------------------\n",
      "Cycle: 5\n",
      "Min Val Loss: 0.08246598567347974\n",
      "Params: 996107\n",
      "--------------------\n",
      "Cycle: 7\n",
      "Min Val Loss: 0.08590757776983082\n",
      "Params: 807994\n",
      "--------------------\n",
      "Cycle: 11\n",
      "Min Val Loss: 0.08807827555574477\n",
      "Params: 532205\n",
      "--------------------\n",
      "Cycle: 2\n",
      "Min Val Loss: 0.09089144552126527\n",
      "Params: 1364157\n",
      "--------------------\n"
     ]
    }
   ],
   "source": [
    "def get_top_models_by_val_loss(models_dict, best_model_amount=7):\n",
    "    sorted_models = sorted(models_dict.items(), key=lambda item: item[1]['min_val_loss'])\n",
    "\n",
    "    top_models = dict(sorted_models[:best_model_amount])\n",
    "\n",
    "    for key, model in top_models.items():\n",
    "        print(f\"Cycle: {model['cycle']}\")\n",
    "        print(f\"Min Val Loss: {model['min_val_loss']}\")\n",
    "        print(f\"Params: {model['params']}\")\n",
    "        print(\"-\" * 20)\n",
    "\n",
    "    return top_models\n",
    "\n",
    "top_models = get_top_models_by_val_loss(models_dict)"
   ]
  },
  {
   "cell_type": "code",
   "execution_count": 4,
   "metadata": {},
   "outputs": [],
   "source": [
    "model_index = 11\n",
    "best_model = models_dict[model_index][\"model\"]"
   ]
  },
  {
   "cell_type": "code",
   "execution_count": 5,
   "metadata": {},
   "outputs": [
    {
     "name": "stderr",
     "output_type": "stream",
     "text": [
      "/home/diogoalves/thesis/.venv/lib/python3.10/site-packages/torchvision/models/_utils.py:208: UserWarning: The parameter 'pretrained' is deprecated since 0.13 and may be removed in the future, please use 'weights' instead.\n",
      "  warnings.warn(\n",
      "/home/diogoalves/thesis/.venv/lib/python3.10/site-packages/torchvision/models/_utils.py:223: UserWarning: Arguments other than a weight enum or `None` for 'weights' are deprecated since 0.13 and may be removed in the future. The current behavior is equivalent to passing `weights=MobileNet_V3_Small_Weights.IMAGENET1K_V1`. You can also use `weights=MobileNet_V3_Small_Weights.DEFAULT` to get the most up-to-date weights.\n",
      "  warnings.warn(msg)\n"
     ]
    },
    {
     "data": {
      "text/plain": [
       "532205"
      ]
     },
     "execution_count": 5,
     "metadata": {},
     "output_type": "execute_result"
    }
   ],
   "source": [
    "from model_training_ck.trainer import count_nonzero_parameters\n",
    "\n",
    "model = MobileNetV3(num_labels=7)\n",
    "model.load_state_dict(best_model)\n",
    "count_nonzero_parameters(model)"
   ]
  },
  {
   "cell_type": "code",
   "execution_count": 6,
   "metadata": {},
   "outputs": [],
   "source": [
    "best_model_cycle = models_dict[model_index][\"cycle\"]\n",
    "best_model_params = models_dict[model_index][\"params\"]\n",
    "\n",
    "model_name = f\"{model_dir}/{model_name}_{best_model_cycle}_{best_model_params}.pt\"\n",
    "torch.save(model.state_dict(), model_name)"
   ]
  }
 ],
 "metadata": {
  "kernelspec": {
   "display_name": ".venv",
   "language": "python",
   "name": "python3"
  },
  "language_info": {
   "codemirror_mode": {
    "name": "ipython",
    "version": 3
   },
   "file_extension": ".py",
   "mimetype": "text/x-python",
   "name": "python",
   "nbconvert_exporter": "python",
   "pygments_lexer": "ipython3",
   "version": "3.10.12"
  }
 },
 "nbformat": 4,
 "nbformat_minor": 2
}
